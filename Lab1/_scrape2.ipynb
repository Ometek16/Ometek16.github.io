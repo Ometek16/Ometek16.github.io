{
 "cells": [
  {
   "cell_type": "code",
   "execution_count": 1,
   "metadata": {},
   "outputs": [],
   "source": [
    "from selenium import webdriver\n",
    "from bs4 import BeautifulSoup\n",
    "\n",
    "url = \"https://leetcode.com/discuss/study-guide/4144505/Must-read-articles-on-leetcode\"\n",
    "\n",
    "# Initialize the webdriver (ensure the appropriate driver is installed)\n",
    "driver = webdriver.Chrome()\n",
    "\n",
    "# Navigate to the target website\n",
    "driver.get(url)"
   ]
  },
  {
   "cell_type": "code",
   "execution_count": 4,
   "metadata": {},
   "outputs": [],
   "source": [
    "# Get the fully rendered page source\n",
    "html_content = driver.page_source\n",
    "\n",
    "# (Optional) Use BeautifulSoup to parse the HTML\n",
    "from bs4 import BeautifulSoup\n",
    "soup = BeautifulSoup(html_content, 'html.parser')\n",
    "\n",
    "divs = soup.find('div', class_='break-words')"
   ]
  },
  {
   "cell_type": "code",
   "execution_count": 18,
   "metadata": {},
   "outputs": [
    {
     "data": {
      "text/plain": [
       "['Sliding Window Patterns: https://leetcode.com/problems/frequency-of-the-most-frequent-element/solutions/1175088/C++-Maximum-Sliding-Window-Cheatsheet-Template/',\n",
       " 'Two Pointers Patterns: https://leetcode.com/discuss/study-guide/1688903/Solved-all-two-pointers-problems-in-100-days',\n",
       " \"Substring Problems Patterns: https://leetcode.com/problems/minimum-window-substring/solutions/26808/Here-is-a-10-line-template-that-can-solve-most-'substring'-problems/\",\n",
       " 'Dynamic Programming-1 Patterns: https://leetcode.com/discuss/study-guide/458695/Dynamic-Programming-Patterns',\n",
       " 'Dynamic Programming-2 Patterns: https://leetcode.com/discuss/study-guide/1437879/Dynamic-Programming-Patterns',\n",
       " 'Binary Search Patterns: https://leetcode.com/discuss/study-guide/786126/Python-Powerful-Ultimate-Binary-Search-Template.-Solved-many-problems',\n",
       " 'Backtracking Patterns: https://leetcode.com/problems/permutations/solutions/18239/A-general-approach-to-backtracking-questions-in-Java-(Subsets-Permutations-Combination-Sum-Palindrome-Partioning)/',\n",
       " 'Tree Patterns: https://leetcode.com/discuss/study-guide/937307/Iterative-or-Recursive-or-DFS-and-BFS-Tree-Traversal-or-In-Pre-Post-and-LevelOrder-or-Views',\n",
       " 'Graph Patterns: https://leetcode.com/discuss/study-guide/655708/Graph-For-Beginners-Problems-or-Pattern-or-Sample-Solutions']"
      ]
     },
     "execution_count": 18,
     "metadata": {},
     "output_type": "execute_result"
    }
   ],
   "source": [
    "div2 = list(list(divs.children)[0].children)[0]\n",
    "\n",
    "title = \"\"\n",
    "data = []\n",
    "for elem in div2.children:\n",
    "\tif elem.name == 'p':\n",
    "\t\ttitle = elem.text\n",
    "\tif elem.name == 'ul':\n",
    "\t\tfor li in elem.children:\n",
    "\t\t\ttext = li.text.strip()\n",
    "\t\t\tif (not text): continue\n",
    "\t\t\tdata.append(text)\n",
    "data"
   ]
  },
  {
   "cell_type": "code",
   "execution_count": 19,
   "metadata": {},
   "outputs": [],
   "source": [
    "to_save = []\n",
    "for elem in data:\n",
    "    title, link = elem.split(': ')\n",
    "    to_save.append((title, link))"
   ]
  },
  {
   "cell_type": "code",
   "execution_count": 20,
   "metadata": {},
   "outputs": [],
   "source": [
    "# save data to a json object\n",
    "import json\n",
    "with open('patterns.json', 'w') as f:\n",
    "\tjson.dump(to_save, f)"
   ]
  }
 ],
 "metadata": {
  "kernelspec": {
   "display_name": "3.12.0",
   "language": "python",
   "name": "python3"
  },
  "language_info": {
   "codemirror_mode": {
    "name": "ipython",
    "version": 3
   },
   "file_extension": ".py",
   "mimetype": "text/x-python",
   "name": "python",
   "nbconvert_exporter": "python",
   "pygments_lexer": "ipython3",
   "version": "3.12.0"
  }
 },
 "nbformat": 4,
 "nbformat_minor": 2
}
